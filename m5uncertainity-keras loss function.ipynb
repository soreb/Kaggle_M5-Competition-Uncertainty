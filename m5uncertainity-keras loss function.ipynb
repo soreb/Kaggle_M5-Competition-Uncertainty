{
 "cells": [
  {
   "cell_type": "code",
   "execution_count": 1,
   "metadata": {
    "_cell_guid": "b1076dfc-b9ad-4769-8c92-a6c4dae69d19",
    "_uuid": "8f2839f25d086af736a60e9eeb907d3b93b6e0e5"
   },
   "outputs": [],
   "source": [
    "import numpy as np\n",
    "import pandas as pd\n",
    "import matplotlib.pyplot as plt\n",
    "import lightgbm as lgb\n",
    "from sklearn.metrics import mean_squared_error\n",
    "from tqdm import tqdm\n",
    "import gc"
   ]
  },
  {
   "cell_type": "code",
   "execution_count": 2,
   "metadata": {
    "_cell_guid": "79c7e3d0-c299-4dcb-8224-4455121ee9b0",
    "_uuid": "d629ff2d2480ee46fbb7e2d37f6b5fab8052498a"
   },
   "outputs": [],
   "source": [
    "def reduce_mem_usage(df, verbose=True):\n",
    "    numerics = ['int16', 'int32', 'int64', 'float16', 'float32', 'float64']\n",
    "    start_mem = df.memory_usage().sum() / 1024**2    \n",
    "    for col in df.columns:\n",
    "        col_type = df[col].dtypes\n",
    "        if col_type in numerics:\n",
    "            c_min = df[col].min()\n",
    "            c_max = df[col].max()\n",
    "            if str(col_type)[:3] == 'int':\n",
    "                if c_min > np.iinfo(np.int8).min and c_max < np.iinfo(np.int8).max:\n",
    "                    df[col] = df[col].astype(np.int8)\n",
    "                elif c_min > np.iinfo(np.int16).min and c_max < np.iinfo(np.int16).max:\n",
    "                    df[col] = df[col].astype(np.int16)\n",
    "                elif c_min > np.iinfo(np.int32).min and c_max < np.iinfo(np.int32).max:\n",
    "                    df[col] = df[col].astype(np.int32)\n",
    "                elif c_min > np.iinfo(np.int64).min and c_max < np.iinfo(np.int64).max:\n",
    "                    df[col] = df[col].astype(np.int64)  \n",
    "            else:\n",
    "                if c_min > np.finfo(np.float16).min and c_max < np.finfo(np.float16).max:\n",
    "                    df[col] = df[col].astype(np.float16)\n",
    "                elif c_min > np.finfo(np.float32).min and c_max < np.finfo(np.float32).max:\n",
    "                    df[col] = df[col].astype(np.float32)\n",
    "                else:\n",
    "                    df[col] = df[col].astype(np.float64)    \n",
    "    end_mem = df.memory_usage().sum() / 1024**2\n",
    "    if verbose: print('Mem. usage decreased to {:5.2f} Mb ({:.1f}% reduction)'.format(end_mem, 100 * (start_mem - end_mem) / start_mem))\n",
    "    return df\n",
    "#\n",
    "def autocorrelation(ys, t=1):\n",
    "    return np.corrcoef(ys[:-t], ys[t:])"
   ]
  },
  {
   "cell_type": "markdown",
   "execution_count": null,
   "metadata": {},
   "source": [
    "**Variables to help with aggregation**"
   ]
  },
  {
   "cell_type": "code",
   "execution_count": 3,
   "metadata": {},
   "outputs": [],
   "source": [
    "#==========================================================================\n",
    "def preprocess_sales(sales, start=1400, upper=1970):\n",
    "    if start is not None:\n",
    "        print(\"dropping...\")\n",
    "        to_drop = [f\"d_{i+1}\" for i in range(start-1)]\n",
    "        print(sales.shape)\n",
    "        sales.drop(to_drop, axis=1, inplace=True)\n",
    "        print(sales.shape)\n",
    "    #=======\n",
    "    print(\"adding...\")\n",
    "    new_columns = ['d_%i'%i for i in range(1942, upper, 1)]\n",
    "    for col in new_columns:\n",
    "        sales[col] = np.nan\n",
    "    print(\"melting...\")\n",
    "    sales = sales.melt(id_vars=[\"id\", \"item_id\", \"dept_id\", \"cat_id\", \"store_id\", \"state_id\",\"scale\",\"start\"],\n",
    "                        var_name='d', value_name='demand')\n",
    "\n",
    "    print(\"generating order\")\n",
    "    if start is not None:\n",
    "        skip = start\n",
    "    else:\n",
    "        skip = 1\n",
    "    sales[\"nb\"] =sales.index // 42840 + skip\n",
    "    return sales\n",
    "#===============================================================\n",
    "def preprocess_calendar(calendar):\n",
    "    global maps, mods\n",
    "    calendar[\"event_name\"] = calendar[\"event_name_1\"]\n",
    "    calendar[\"event_type\"] = calendar[\"event_type_1\"]\n",
    "\n",
    "    map1 = {mod:i for i,mod in enumerate(calendar['event_name'].unique())}\n",
    "    calendar['event_name'] = calendar['event_name'].map(map1)\n",
    "    map2 = {mod:i for i,mod in enumerate(calendar['event_type'].unique())}\n",
    "    calendar['event_type'] = calendar['event_type'].map(map2)\n",
    "    calendar['nday'] = calendar['date'].str[-2:].astype(int)\n",
    "    maps[\"event_name\"] = map1\n",
    "    maps[\"event_type\"] = map2\n",
    "    mods[\"event_name\"] = len(map1)\n",
    "    mods[\"event_type\"] = len(map2)\n",
    "    calendar[\"wday\"] -=1\n",
    "    calendar[\"month\"] -=1\n",
    "    calendar[\"year\"] -= 2011\n",
    "    mods[\"month\"] = 12\n",
    "    mods[\"year\"] = 6\n",
    "    mods[\"wday\"] = 7\n",
    "    mods['snap_CA'] = 2\n",
    "    mods['snap_TX'] = 2\n",
    "    mods['snap_WI'] = 2\n",
    "\n",
    "    calendar.drop([\"event_name_1\", \"event_name_2\", \"event_type_1\", \"event_type_2\", \"date\", \"weekday\"], \n",
    "                  axis=1, inplace=True)\n",
    "    return calendar\n",
    "#=========================================================\n",
    "def make_dataset(categorize=False ,start=1400, upper= 1970):\n",
    "    global maps, mods\n",
    "    print(\"loading calendar...\")\n",
    "    calendar = pd.read_csv(\"../input/m5-forecasting-uncertainty/calendar.csv\")\n",
    "    print(\"loading sales...\")\n",
    "    sales = pd.read_csv(\"../input/walmartadd/sales.csv\")\n",
    "    cols = [\"item_id\", \"dept_id\", \"cat_id\",\"store_id\",\"state_id\"]\n",
    "    if categorize:\n",
    "        for col in cols:\n",
    "            temp_dct = {mod:i for i, mod in enumerate(sales[col].unique())}\n",
    "            mods[col] = len(temp_dct)\n",
    "            maps[col] = temp_dct\n",
    "        for col in cols:\n",
    "            sales[col] = sales[col].map(maps[col])\n",
    "        #\n",
    "\n",
    "    sales =preprocess_sales(sales, start=start, upper= upper)\n",
    "    calendar = preprocess_calendar(calendar)\n",
    "    calendar = reduce_mem_usage(calendar)\n",
    "    print(\"merge with calendar...\")\n",
    "    sales = sales.merge(calendar, on='d', how='left')\n",
    "    del calendar\n",
    "\n",
    "    print(\"reordering...\")\n",
    "    sales.sort_values(by=[\"id\",\"nb\"], inplace=True)\n",
    "    print(\"re-indexing..\")\n",
    "    sales.reset_index(inplace=True, drop=True)\n",
    "    gc.collect()\n",
    "\n",
    "    sales['n_week'] = (sales['nb']-1)//7\n",
    "    sales[\"nday\"] -= 1\n",
    "    mods['nday'] = 31\n",
    "    sales = reduce_mem_usage(sales)\n",
    "    gc.collect()\n",
    "    return sales\n",
    "#==================="
   ]
  },
  {
   "cell_type": "code",
   "execution_count": 4,
   "metadata": {},
   "outputs": [
    {
     "name": "stdout",
     "output_type": "stream",
     "text": [
      "loading calendar...\n",
      "loading sales...\n",
      "dropping...\n",
      "(42840, 1949)\n",
      "(42840, 550)\n",
      "adding...\n",
      "melting...\n",
      "generating order\n",
      "Mem. usage decreased to  0.04 Mb (78.4% reduction)\n",
      "merge with calendar...\n",
      "reordering...\n",
      "re-indexing..\n",
      "Mem. usage decreased to 1001.37 Mb (59.8% reduction)\n",
      "CPU times: user 50.9 s, sys: 15.3 s, total: 1min 6s\n",
      "Wall time: 1min 5s\n"
     ]
    }
   ],
   "source": [
    "%%time\n",
    "CATEGORIZE = True;\n",
    "START = 1400; UPPER = 1970;\n",
    "maps = {}\n",
    "mods = {}\n",
    "sales = make_dataset(categorize=CATEGORIZE ,start=START, upper= UPPER)"
   ]
  },
  {
   "cell_type": "code",
   "execution_count": 5,
   "metadata": {},
   "outputs": [
    {
     "name": "stdout",
     "output_type": "stream",
     "text": [
      "<class 'pandas.core.frame.DataFrame'>\n",
      "RangeIndex: 24418800 entries, 0 to 24418799\n",
      "Data columns (total 22 columns):\n",
      " #   Column      Dtype  \n",
      "---  ------      -----  \n",
      " 0   id          object \n",
      " 1   item_id     int16  \n",
      " 2   dept_id     int8   \n",
      " 3   cat_id      int8   \n",
      " 4   store_id    int8   \n",
      " 5   state_id    int8   \n",
      " 6   scale       float16\n",
      " 7   start       int16  \n",
      " 8   d           object \n",
      " 9   demand      float16\n",
      " 10  nb          int16  \n",
      " 11  wm_yr_wk    int16  \n",
      " 12  wday        int8   \n",
      " 13  month       int8   \n",
      " 14  year        int8   \n",
      " 15  snap_CA     int8   \n",
      " 16  snap_TX     int8   \n",
      " 17  snap_WI     int8   \n",
      " 18  event_name  int8   \n",
      " 19  event_type  int8   \n",
      " 20  nday        int8   \n",
      " 21  n_week      int16  \n",
      "dtypes: float16(2), int16(5), int8(13), object(2)\n",
      "memory usage: 1001.4+ MB\n"
     ]
    }
   ],
   "source": [
    "sales.info()"
   ]
  },
  {
   "cell_type": "markdown",
   "execution_count": null,
   "metadata": {},
   "source": [
    "As we are asked to predict a time window of 28 days, the easiest way to go now is to use the last 28 days for validation:"
   ]
  },
  {
   "cell_type": "code",
   "execution_count": 6,
   "metadata": {},
   "outputs": [],
   "source": [
    "sales[\"x\"] = sales[\"demand\"] / sales[\"scale\"]"
   ]
  },
  {
   "cell_type": "code",
   "execution_count": 7,
   "metadata": {},
   "outputs": [
    {
     "name": "stderr",
     "output_type": "stream",
     "text": [
      "100%|██████████| 6/6 [00:21<00:00,  3.56s/it]\n"
     ]
    }
   ],
   "source": [
    "LAGS = [28, 29, 30, 31, 32, 33]\n",
    "FEATS = []\n",
    "for lag in tqdm(LAGS):\n",
    "    sales[f\"x_{lag}\"] = sales.groupby(\"id\")[\"x\"].shift(lag)\n",
    "    FEATS.append(f\"x_{lag}\")"
   ]
  },
  {
   "cell_type": "code",
   "execution_count": 8,
   "metadata": {},
   "outputs": [
    {
     "name": "stdout",
     "output_type": "stream",
     "text": [
      "<class 'pandas.core.frame.DataFrame'>\n",
      "RangeIndex: 24418800 entries, 0 to 24418799\n",
      "Data columns (total 29 columns):\n",
      " #   Column      Dtype  \n",
      "---  ------      -----  \n",
      " 0   id          object \n",
      " 1   item_id     int16  \n",
      " 2   dept_id     int8   \n",
      " 3   cat_id      int8   \n",
      " 4   store_id    int8   \n",
      " 5   state_id    int8   \n",
      " 6   scale       float16\n",
      " 7   start       int16  \n",
      " 8   d           object \n",
      " 9   demand      float16\n",
      " 10  nb          int16  \n",
      " 11  wm_yr_wk    int16  \n",
      " 12  wday        int8   \n",
      " 13  month       int8   \n",
      " 14  year        int8   \n",
      " 15  snap_CA     int8   \n",
      " 16  snap_TX     int8   \n",
      " 17  snap_WI     int8   \n",
      " 18  event_name  int8   \n",
      " 19  event_type  int8   \n",
      " 20  nday        int8   \n",
      " 21  n_week      int16  \n",
      " 22  x           float16\n",
      " 23  x_28        float16\n",
      " 24  x_29        float16\n",
      " 25  x_30        float16\n",
      " 26  x_31        float16\n",
      " 27  x_32        float16\n",
      " 28  x_33        float16\n",
      "dtypes: float16(9), int16(5), int8(13), object(2)\n",
      "memory usage: 1.3+ GB\n"
     ]
    }
   ],
   "source": [
    "sales.info()"
   ]
  },
  {
   "cell_type": "code",
   "execution_count": 9,
   "metadata": {},
   "outputs": [],
   "source": [
    "#sales.loc[(sales.start>1844)&(sales.nb>1840)&(sales.nb<1850), ['id','start','nb','demand']]\n",
    "#sales.start.max() #1845"
   ]
  },
  {
   "cell_type": "code",
   "execution_count": 10,
   "metadata": {},
   "outputs": [
    {
     "name": "stdout",
     "output_type": "stream",
     "text": [
      "(24418800, 29)\n",
      "(24268220, 29)\n"
     ]
    }
   ],
   "source": [
    "print(sales.shape)\n",
    "sales = sales.loc[sales.nb>sales.start]\n",
    "print(sales.shape)"
   ]
  },
  {
   "cell_type": "code",
   "execution_count": 11,
   "metadata": {},
   "outputs": [
    {
     "data": {
      "text/html": [
       "<div>\n",
       "<style scoped>\n",
       "    .dataframe tbody tr th:only-of-type {\n",
       "        vertical-align: middle;\n",
       "    }\n",
       "\n",
       "    .dataframe tbody tr th {\n",
       "        vertical-align: top;\n",
       "    }\n",
       "\n",
       "    .dataframe thead th {\n",
       "        text-align: right;\n",
       "    }\n",
       "</style>\n",
       "<table border=\"1\" class=\"dataframe\">\n",
       "  <thead>\n",
       "    <tr style=\"text-align: right;\">\n",
       "      <th></th>\n",
       "      <th>id</th>\n",
       "      <th>item_id</th>\n",
       "      <th>dept_id</th>\n",
       "      <th>cat_id</th>\n",
       "      <th>store_id</th>\n",
       "      <th>state_id</th>\n",
       "      <th>scale</th>\n",
       "      <th>start</th>\n",
       "      <th>d</th>\n",
       "      <th>demand</th>\n",
       "      <th>...</th>\n",
       "      <th>event_type</th>\n",
       "      <th>nday</th>\n",
       "      <th>n_week</th>\n",
       "      <th>x</th>\n",
       "      <th>x_28</th>\n",
       "      <th>x_29</th>\n",
       "      <th>x_30</th>\n",
       "      <th>x_31</th>\n",
       "      <th>x_32</th>\n",
       "      <th>x_33</th>\n",
       "    </tr>\n",
       "  </thead>\n",
       "  <tbody>\n",
       "    <tr>\n",
       "      <th>0</th>\n",
       "      <td>CA_1_FOODS</td>\n",
       "      <td>3056</td>\n",
       "      <td>7</td>\n",
       "      <td>2</td>\n",
       "      <td>0</td>\n",
       "      <td>0</td>\n",
       "      <td>465.75</td>\n",
       "      <td>0</td>\n",
       "      <td>d_1400</td>\n",
       "      <td>2296.0</td>\n",
       "      <td>...</td>\n",
       "      <td>0</td>\n",
       "      <td>27</td>\n",
       "      <td>199</td>\n",
       "      <td>4.929688</td>\n",
       "      <td>NaN</td>\n",
       "      <td>NaN</td>\n",
       "      <td>NaN</td>\n",
       "      <td>NaN</td>\n",
       "      <td>NaN</td>\n",
       "      <td>NaN</td>\n",
       "    </tr>\n",
       "    <tr>\n",
       "      <th>1</th>\n",
       "      <td>CA_1_FOODS</td>\n",
       "      <td>3056</td>\n",
       "      <td>7</td>\n",
       "      <td>2</td>\n",
       "      <td>0</td>\n",
       "      <td>0</td>\n",
       "      <td>465.75</td>\n",
       "      <td>0</td>\n",
       "      <td>d_1401</td>\n",
       "      <td>2984.0</td>\n",
       "      <td>...</td>\n",
       "      <td>0</td>\n",
       "      <td>28</td>\n",
       "      <td>200</td>\n",
       "      <td>6.406250</td>\n",
       "      <td>NaN</td>\n",
       "      <td>NaN</td>\n",
       "      <td>NaN</td>\n",
       "      <td>NaN</td>\n",
       "      <td>NaN</td>\n",
       "      <td>NaN</td>\n",
       "    </tr>\n",
       "    <tr>\n",
       "      <th>2</th>\n",
       "      <td>CA_1_FOODS</td>\n",
       "      <td>3056</td>\n",
       "      <td>7</td>\n",
       "      <td>2</td>\n",
       "      <td>0</td>\n",
       "      <td>0</td>\n",
       "      <td>465.75</td>\n",
       "      <td>0</td>\n",
       "      <td>d_1402</td>\n",
       "      <td>3228.0</td>\n",
       "      <td>...</td>\n",
       "      <td>0</td>\n",
       "      <td>29</td>\n",
       "      <td>200</td>\n",
       "      <td>6.929688</td>\n",
       "      <td>NaN</td>\n",
       "      <td>NaN</td>\n",
       "      <td>NaN</td>\n",
       "      <td>NaN</td>\n",
       "      <td>NaN</td>\n",
       "      <td>NaN</td>\n",
       "    </tr>\n",
       "    <tr>\n",
       "      <th>3</th>\n",
       "      <td>CA_1_FOODS</td>\n",
       "      <td>3056</td>\n",
       "      <td>7</td>\n",
       "      <td>2</td>\n",
       "      <td>0</td>\n",
       "      <td>0</td>\n",
       "      <td>465.75</td>\n",
       "      <td>0</td>\n",
       "      <td>d_1403</td>\n",
       "      <td>2868.0</td>\n",
       "      <td>...</td>\n",
       "      <td>0</td>\n",
       "      <td>0</td>\n",
       "      <td>200</td>\n",
       "      <td>6.156250</td>\n",
       "      <td>NaN</td>\n",
       "      <td>NaN</td>\n",
       "      <td>NaN</td>\n",
       "      <td>NaN</td>\n",
       "      <td>NaN</td>\n",
       "      <td>NaN</td>\n",
       "    </tr>\n",
       "    <tr>\n",
       "      <th>4</th>\n",
       "      <td>CA_1_FOODS</td>\n",
       "      <td>3056</td>\n",
       "      <td>7</td>\n",
       "      <td>2</td>\n",
       "      <td>0</td>\n",
       "      <td>0</td>\n",
       "      <td>465.75</td>\n",
       "      <td>0</td>\n",
       "      <td>d_1404</td>\n",
       "      <td>2312.0</td>\n",
       "      <td>...</td>\n",
       "      <td>0</td>\n",
       "      <td>1</td>\n",
       "      <td>200</td>\n",
       "      <td>4.964844</td>\n",
       "      <td>NaN</td>\n",
       "      <td>NaN</td>\n",
       "      <td>NaN</td>\n",
       "      <td>NaN</td>\n",
       "      <td>NaN</td>\n",
       "      <td>NaN</td>\n",
       "    </tr>\n",
       "  </tbody>\n",
       "</table>\n",
       "<p>5 rows × 29 columns</p>\n",
       "</div>"
      ],
      "text/plain": [
       "           id  item_id  dept_id  cat_id  store_id  state_id   scale  start  \\\n",
       "0  CA_1_FOODS     3056        7       2         0         0  465.75      0   \n",
       "1  CA_1_FOODS     3056        7       2         0         0  465.75      0   \n",
       "2  CA_1_FOODS     3056        7       2         0         0  465.75      0   \n",
       "3  CA_1_FOODS     3056        7       2         0         0  465.75      0   \n",
       "4  CA_1_FOODS     3056        7       2         0         0  465.75      0   \n",
       "\n",
       "        d  demand  ...  event_type  nday  n_week         x  x_28  x_29  x_30  \\\n",
       "0  d_1400  2296.0  ...           0    27     199  4.929688   NaN   NaN   NaN   \n",
       "1  d_1401  2984.0  ...           0    28     200  6.406250   NaN   NaN   NaN   \n",
       "2  d_1402  3228.0  ...           0    29     200  6.929688   NaN   NaN   NaN   \n",
       "3  d_1403  2868.0  ...           0     0     200  6.156250   NaN   NaN   NaN   \n",
       "4  d_1404  2312.0  ...           0     1     200  4.964844   NaN   NaN   NaN   \n",
       "\n",
       "   x_31  x_32  x_33  \n",
       "0   NaN   NaN   NaN  \n",
       "1   NaN   NaN   NaN  \n",
       "2   NaN   NaN   NaN  \n",
       "3   NaN   NaN   NaN  \n",
       "4   NaN   NaN   NaN  \n",
       "\n",
       "[5 rows x 29 columns]"
      ]
     },
     "execution_count": 11,
     "metadata": {},
     "output_type": "execute_result"
    }
   ],
   "source": [
    "sales.head()"
   ]
  },
  {
   "cell_type": "code",
   "execution_count": 12,
   "metadata": {},
   "outputs": [],
   "source": [
    "nb = sales['nb'].values\n",
    "MAX_LAG = max(LAGS)\n",
    "#tr_mask = np.logical_and(nb>START + MAX_LAG, nb<=1913)\n",
    "tr_mask = np.logical_and(nb>START + MAX_LAG, nb<=1941) \n",
    "val_mask = np.logical_and(nb>1913, nb<=1941)\n",
    "te_mask = np.logical_and(nb>1941, nb<=1969)"
   ]
  },
  {
   "cell_type": "code",
   "execution_count": 13,
   "metadata": {},
   "outputs": [
    {
     "data": {
      "text/plain": [
       "array([1400, 1401, 1402, ..., 1967, 1968, 1969], dtype=int16)"
      ]
     },
     "execution_count": 13,
     "metadata": {},
     "output_type": "execute_result"
    }
   ],
   "source": [
    "nb"
   ]
  },
  {
   "cell_type": "code",
   "execution_count": 14,
   "metadata": {},
   "outputs": [],
   "source": [
    "scale = sales['scale'].values\n",
    "ids = sales['id'].values\n",
    "#y = sales['demand'].values\n",
    "#ys = y / scale\n",
    "ys = sales['x'].values\n",
    "Z = sales[FEATS].values"
   ]
  },
  {
   "cell_type": "code",
   "execution_count": 15,
   "metadata": {},
   "outputs": [
    {
     "data": {
      "text/plain": [
       "0           4.929688\n",
       "1           6.406250\n",
       "2           6.929688\n",
       "3           6.156250\n",
       "4           4.964844\n",
       "              ...   \n",
       "24418795         NaN\n",
       "24418796         NaN\n",
       "24418797         NaN\n",
       "24418798         NaN\n",
       "24418799         NaN\n",
       "Name: x, Length: 24268220, dtype: float16"
      ]
     },
     "execution_count": 15,
     "metadata": {},
     "output_type": "execute_result"
    }
   ],
   "source": [
    "sales['x']"
   ]
  },
  {
   "cell_type": "code",
   "execution_count": 16,
   "metadata": {},
   "outputs": [
    {
     "data": {
      "text/plain": [
       "array([ 465.8,  465.8,  465.8, ..., 1440. , 1440. , 1440. ], dtype=float16)"
      ]
     },
     "execution_count": 16,
     "metadata": {},
     "output_type": "execute_result"
    }
   ],
   "source": [
    "scale"
   ]
  },
  {
   "cell_type": "code",
   "execution_count": 17,
   "metadata": {},
   "outputs": [
    {
     "name": "stdout",
     "output_type": "stream",
     "text": [
      "<class 'pandas.core.frame.DataFrame'>\n",
      "Int64Index: 24268220 entries, 0 to 24418799\n",
      "Data columns (total 29 columns):\n",
      " #   Column      Dtype  \n",
      "---  ------      -----  \n",
      " 0   id          object \n",
      " 1   item_id     int16  \n",
      " 2   dept_id     int8   \n",
      " 3   cat_id      int8   \n",
      " 4   store_id    int8   \n",
      " 5   state_id    int8   \n",
      " 6   scale       float16\n",
      " 7   start       int16  \n",
      " 8   d           object \n",
      " 9   demand      float16\n",
      " 10  nb          int16  \n",
      " 11  wm_yr_wk    int16  \n",
      " 12  wday        int8   \n",
      " 13  month       int8   \n",
      " 14  year        int8   \n",
      " 15  snap_CA     int8   \n",
      " 16  snap_TX     int8   \n",
      " 17  snap_WI     int8   \n",
      " 18  event_name  int8   \n",
      " 19  event_type  int8   \n",
      " 20  nday        int8   \n",
      " 21  n_week      int16  \n",
      " 22  x           float16\n",
      " 23  x_28        float16\n",
      " 24  x_29        float16\n",
      " 25  x_30        float16\n",
      " 26  x_31        float16\n",
      " 27  x_32        float16\n",
      " 28  x_33        float16\n",
      "dtypes: float16(9), int16(5), int8(13), object(2)\n",
      "memory usage: 1.5+ GB\n"
     ]
    }
   ],
   "source": [
    "sales.info()"
   ]
  },
  {
   "cell_type": "code",
   "execution_count": 18,
   "metadata": {},
   "outputs": [],
   "source": [
    "sv = scale[val_mask]\n",
    "se = scale[te_mask]\n",
    "ids = ids[te_mask]\n",
    "ids = ids.reshape((-1, 28))"
   ]
  },
  {
   "cell_type": "code",
   "execution_count": 19,
   "metadata": {},
   "outputs": [
    {
     "data": {
      "text/plain": [
       "array([ 465.8,  465.8,  465.8, ..., 1440. , 1440. , 1440. ], dtype=float16)"
      ]
     },
     "execution_count": 19,
     "metadata": {},
     "output_type": "execute_result"
    }
   ],
   "source": [
    "se"
   ]
  },
  {
   "cell_type": "code",
   "execution_count": 20,
   "metadata": {},
   "outputs": [],
   "source": [
    "ca = sales[['snap_CA']].values\n",
    "tx = sales[['snap_TX']].values\n",
    "wi = sales[['snap_WI']].values\n",
    "wday = sales[['wday']].values\n",
    "month = sales[['month']].values\n",
    "year = sales[['year']].values\n",
    "event = sales[['event_name']].values\n",
    "nday = sales[['nday']].values\n",
    "lag1=sales[['x_28']].values"
   ]
  },
  {
   "cell_type": "code",
   "execution_count": 21,
   "metadata": {},
   "outputs": [],
   "source": [
    "item = sales[['item_id']].values\n",
    "dept = sales[['dept_id']].values\n",
    "cat = sales[['cat_id']].values\n",
    "store = sales[['store_id']].values\n",
    "state = sales[['state_id']].values"
   ]
  },
  {
   "cell_type": "code",
   "execution_count": 22,
   "metadata": {},
   "outputs": [
    {
     "data": {
      "text/plain": [
       "array([[   nan,    nan,    nan,    nan,    nan,    nan],\n",
       "       [   nan,    nan,    nan,    nan,    nan,    nan],\n",
       "       [   nan,    nan,    nan,    nan,    nan,    nan],\n",
       "       ...,\n",
       "       [ 8.9  ,  7.99 ,  7.668,  7.816,  8.625, 13.18 ],\n",
       "       [10.234,  8.9  ,  7.99 ,  7.668,  7.816,  8.625],\n",
       "       [10.336, 10.234,  8.9  ,  7.99 ,  7.668,  7.816]], dtype=float16)"
      ]
     },
     "execution_count": 22,
     "metadata": {},
     "output_type": "execute_result"
    }
   ],
   "source": [
    "Z"
   ]
  },
  {
   "cell_type": "code",
   "execution_count": 23,
   "metadata": {},
   "outputs": [
    {
     "data": {
      "text/html": [
       "<div>\n",
       "<style scoped>\n",
       "    .dataframe tbody tr th:only-of-type {\n",
       "        vertical-align: middle;\n",
       "    }\n",
       "\n",
       "    .dataframe tbody tr th {\n",
       "        vertical-align: top;\n",
       "    }\n",
       "\n",
       "    .dataframe thead th {\n",
       "        text-align: right;\n",
       "    }\n",
       "</style>\n",
       "<table border=\"1\" class=\"dataframe\">\n",
       "  <thead>\n",
       "    <tr style=\"text-align: right;\">\n",
       "      <th></th>\n",
       "      <th>x_28</th>\n",
       "      <th>x_29</th>\n",
       "      <th>x_30</th>\n",
       "      <th>x_31</th>\n",
       "      <th>x_32</th>\n",
       "      <th>x_33</th>\n",
       "    </tr>\n",
       "  </thead>\n",
       "  <tbody>\n",
       "    <tr>\n",
       "      <th>0</th>\n",
       "      <td>NaN</td>\n",
       "      <td>NaN</td>\n",
       "      <td>NaN</td>\n",
       "      <td>NaN</td>\n",
       "      <td>NaN</td>\n",
       "      <td>NaN</td>\n",
       "    </tr>\n",
       "    <tr>\n",
       "      <th>1</th>\n",
       "      <td>NaN</td>\n",
       "      <td>NaN</td>\n",
       "      <td>NaN</td>\n",
       "      <td>NaN</td>\n",
       "      <td>NaN</td>\n",
       "      <td>NaN</td>\n",
       "    </tr>\n",
       "    <tr>\n",
       "      <th>2</th>\n",
       "      <td>NaN</td>\n",
       "      <td>NaN</td>\n",
       "      <td>NaN</td>\n",
       "      <td>NaN</td>\n",
       "      <td>NaN</td>\n",
       "      <td>NaN</td>\n",
       "    </tr>\n",
       "    <tr>\n",
       "      <th>3</th>\n",
       "      <td>NaN</td>\n",
       "      <td>NaN</td>\n",
       "      <td>NaN</td>\n",
       "      <td>NaN</td>\n",
       "      <td>NaN</td>\n",
       "      <td>NaN</td>\n",
       "    </tr>\n",
       "    <tr>\n",
       "      <th>4</th>\n",
       "      <td>NaN</td>\n",
       "      <td>NaN</td>\n",
       "      <td>NaN</td>\n",
       "      <td>NaN</td>\n",
       "      <td>NaN</td>\n",
       "      <td>NaN</td>\n",
       "    </tr>\n",
       "    <tr>\n",
       "      <th>...</th>\n",
       "      <td>...</td>\n",
       "      <td>...</td>\n",
       "      <td>...</td>\n",
       "      <td>...</td>\n",
       "      <td>...</td>\n",
       "      <td>...</td>\n",
       "    </tr>\n",
       "    <tr>\n",
       "      <th>24418795</th>\n",
       "      <td>7.667969</td>\n",
       "      <td>7.816406</td>\n",
       "      <td>8.625000</td>\n",
       "      <td>13.179688</td>\n",
       "      <td>13.132812</td>\n",
       "      <td>9.218750</td>\n",
       "    </tr>\n",
       "    <tr>\n",
       "      <th>24418796</th>\n",
       "      <td>7.988281</td>\n",
       "      <td>7.667969</td>\n",
       "      <td>7.816406</td>\n",
       "      <td>8.625000</td>\n",
       "      <td>13.179688</td>\n",
       "      <td>13.132812</td>\n",
       "    </tr>\n",
       "    <tr>\n",
       "      <th>24418797</th>\n",
       "      <td>8.898438</td>\n",
       "      <td>7.988281</td>\n",
       "      <td>7.667969</td>\n",
       "      <td>7.816406</td>\n",
       "      <td>8.625000</td>\n",
       "      <td>13.179688</td>\n",
       "    </tr>\n",
       "    <tr>\n",
       "      <th>24418798</th>\n",
       "      <td>10.234375</td>\n",
       "      <td>8.898438</td>\n",
       "      <td>7.988281</td>\n",
       "      <td>7.667969</td>\n",
       "      <td>7.816406</td>\n",
       "      <td>8.625000</td>\n",
       "    </tr>\n",
       "    <tr>\n",
       "      <th>24418799</th>\n",
       "      <td>10.335938</td>\n",
       "      <td>10.234375</td>\n",
       "      <td>8.898438</td>\n",
       "      <td>7.988281</td>\n",
       "      <td>7.667969</td>\n",
       "      <td>7.816406</td>\n",
       "    </tr>\n",
       "  </tbody>\n",
       "</table>\n",
       "<p>24268220 rows × 6 columns</p>\n",
       "</div>"
      ],
      "text/plain": [
       "               x_28       x_29      x_30       x_31       x_32       x_33\n",
       "0               NaN        NaN       NaN        NaN        NaN        NaN\n",
       "1               NaN        NaN       NaN        NaN        NaN        NaN\n",
       "2               NaN        NaN       NaN        NaN        NaN        NaN\n",
       "3               NaN        NaN       NaN        NaN        NaN        NaN\n",
       "4               NaN        NaN       NaN        NaN        NaN        NaN\n",
       "...             ...        ...       ...        ...        ...        ...\n",
       "24418795   7.667969   7.816406  8.625000  13.179688  13.132812   9.218750\n",
       "24418796   7.988281   7.667969  7.816406   8.625000  13.179688  13.132812\n",
       "24418797   8.898438   7.988281  7.667969   7.816406   8.625000  13.179688\n",
       "24418798  10.234375   8.898438  7.988281   7.667969   7.816406   8.625000\n",
       "24418799  10.335938  10.234375  8.898438   7.988281   7.667969   7.816406\n",
       "\n",
       "[24268220 rows x 6 columns]"
      ]
     },
     "execution_count": 23,
     "metadata": {},
     "output_type": "execute_result"
    }
   ],
   "source": [
    "sales[FEATS]"
   ]
  },
  {
   "cell_type": "code",
   "execution_count": 24,
   "metadata": {},
   "outputs": [
    {
     "data": {
      "text/plain": [
       "array([[0],\n",
       "       [0],\n",
       "       [0],\n",
       "       ...,\n",
       "       [0],\n",
       "       [0],\n",
       "       [0]], dtype=int8)"
      ]
     },
     "execution_count": 24,
     "metadata": {},
     "output_type": "execute_result"
    }
   ],
   "source": [
    "ca"
   ]
  },
  {
   "cell_type": "code",
   "execution_count": 25,
   "metadata": {},
   "outputs": [],
   "source": [
    "def make_data(mask):\n",
    "    x = {\"snap_CA\":ca[mask], \"snap_TX\":tx[mask], \"snap_WI\":wi[mask], \"wday\":wday[mask], \n",
    "         \"month\":month[mask], \"year\":year[mask], \"event\":event[mask], \"nday\":nday[mask], \n",
    "         \"item\":item[mask], \"dept\":dept[mask], \"cat\":cat[mask], \"store\":store[mask], \n",
    "         \"state\":state[mask],\"num\":Z[mask]}\n",
    "    t = ys[mask]\n",
    "    return x, t"
   ]
  },
  {
   "cell_type": "code",
   "execution_count": null,
   "metadata": {},
   "outputs": [],
   "source": []
  },
  {
   "cell_type": "code",
   "execution_count": 26,
   "metadata": {},
   "outputs": [
    {
     "name": "stdout",
     "output_type": "stream",
     "text": [
      "<class 'pandas.core.frame.DataFrame'>\n",
      "Int64Index: 24268220 entries, 0 to 24418799\n",
      "Data columns (total 29 columns):\n",
      " #   Column      Dtype  \n",
      "---  ------      -----  \n",
      " 0   id          object \n",
      " 1   item_id     int16  \n",
      " 2   dept_id     int8   \n",
      " 3   cat_id      int8   \n",
      " 4   store_id    int8   \n",
      " 5   state_id    int8   \n",
      " 6   scale       float16\n",
      " 7   start       int16  \n",
      " 8   d           object \n",
      " 9   demand      float16\n",
      " 10  nb          int16  \n",
      " 11  wm_yr_wk    int16  \n",
      " 12  wday        int8   \n",
      " 13  month       int8   \n",
      " 14  year        int8   \n",
      " 15  snap_CA     int8   \n",
      " 16  snap_TX     int8   \n",
      " 17  snap_WI     int8   \n",
      " 18  event_name  int8   \n",
      " 19  event_type  int8   \n",
      " 20  nday        int8   \n",
      " 21  n_week      int16  \n",
      " 22  x           float16\n",
      " 23  x_28        float16\n",
      " 24  x_29        float16\n",
      " 25  x_30        float16\n",
      " 26  x_31        float16\n",
      " 27  x_32        float16\n",
      " 28  x_33        float16\n",
      "dtypes: float16(9), int16(5), int8(13), object(2)\n",
      "memory usage: 1.5+ GB\n"
     ]
    }
   ],
   "source": [
    "sales.info()"
   ]
  },
  {
   "cell_type": "code",
   "execution_count": 27,
   "metadata": {},
   "outputs": [],
   "source": [
    "xt, yt = make_data(tr_mask) #train\n",
    "xv, yv = make_data(val_mask) # val\n",
    "xe, ye = make_data(te_mask) # test"
   ]
  },
  {
   "cell_type": "code",
   "execution_count": 28,
   "metadata": {},
   "outputs": [],
   "source": [
    "import tensorflow.keras.layers as L\n",
    "import tensorflow.keras.models as M\n",
    "import tensorflow.keras.backend as K\n",
    "from tensorflow.keras.callbacks import ModelCheckpoint, ReduceLROnPlateau, EarlyStopping\n",
    "import tensorflow as tf"
   ]
  },
  {
   "cell_type": "code",
   "execution_count": 29,
   "metadata": {},
   "outputs": [],
   "source": [
    "qs = [0.005, 0.025, 0.165, 0.250, 0.500, 0.750, 0.835, 0.975, 0.995]"
   ]
  },
  {
   "cell_type": "code",
   "execution_count": 30,
   "metadata": {},
   "outputs": [
    {
     "data": {
      "text/plain": [
       "<tf.Tensor: shape=(1, 9), dtype=float32, numpy=\n",
       "array([[0.005, 0.025, 0.165, 0.25 , 0.5  , 0.75 , 0.835, 0.975, 0.995]],\n",
       "      dtype=float32)>"
      ]
     },
     "execution_count": 30,
     "metadata": {},
     "output_type": "execute_result"
    }
   ],
   "source": [
    "q = tf.constant(np.array([qs]), dtype=tf.float32)\n",
    "q"
   ]
  },
  {
   "cell_type": "code",
   "execution_count": 31,
   "metadata": {},
   "outputs": [
    {
     "data": {
      "text/plain": [
       "<tf.Tensor 'snap_CA:0' shape=(None, 1) dtype=float32>"
      ]
     },
     "execution_count": 31,
     "metadata": {},
     "output_type": "execute_result"
    }
   ],
   "source": [
    "ca = L.Input((1,), name=\"snap_CA\")\n",
    "ca"
   ]
  },
  {
   "cell_type": "code",
   "execution_count": 32,
   "metadata": {},
   "outputs": [],
   "source": [
    "#=====\n",
    "def qloss(y_true, y_pred):\n",
    "    # Pinball loss for multiple quantiles\n",
    "    qs = [0.005, 0.025, 0.165, 0.250, 0.500, 0.750, 0.835, 0.975, 0.995]\n",
    "    q = tf.constant(np.array([qs]), dtype=tf.float32)\n",
    "    e = y_true - y_pred\n",
    "    v = tf.maximum(q*e, (q-1)*e)\n",
    "    return K.mean(v)\n",
    "#============================#\n",
    "def make_model(n_in):\n",
    "    \n",
    "    num = L.Input((n_in,), name=\"num\")\n",
    "    \n",
    "    ca = L.Input((1,), name=\"snap_CA\")\n",
    "    tx = L.Input((1,), name=\"snap_TX\")\n",
    "    wi = L.Input((1,), name=\"snap_WI\")\n",
    "    wday = L.Input((1,), name=\"wday\")\n",
    "    month = L.Input((1,), name=\"month\")\n",
    "    year = L.Input((1,), name=\"year\")\n",
    "    event = L.Input((1,), name=\"event\")\n",
    "    nday = L.Input((1,), name=\"nday\")\n",
    "    item = L.Input((1,), name=\"item\")\n",
    "    dept = L.Input((1,), name=\"dept\")\n",
    "    cat = L.Input((1,), name=\"cat\")\n",
    "    store = L.Input((1,), name=\"store\")\n",
    "    state = L.Input((1,), name=\"state\")\n",
    "    inp = {\"snap_CA\":ca, \"snap_TX\":tx, \"snap_WI\":wi, \"wday\":wday, \n",
    "           \"month\":month, \"year\":year, \"event\":event, \"nday\":nday,\n",
    "           \"item\":item, \"dept\":dept, \"cat\":cat, \"store\":store, \n",
    "           \"state\":state, \"num\":num} \n",
    "    #\n",
    "    ca_ = L.Embedding(mods[\"snap_CA\"], mods[\"snap_CA\"], name=\"ca_3d\")(ca)\n",
    "    tx_ = L.Embedding(mods[\"snap_TX\"], mods[\"snap_TX\"], name=\"tx_3d\")(tx)\n",
    "    wi_ = L.Embedding(mods[\"snap_WI\"], mods[\"snap_WI\"], name=\"wi_3d\")(wi)\n",
    "    wday_ = L.Embedding(mods[\"wday\"], mods[\"wday\"], name=\"wday_3d\")(wday)\n",
    "    month_ = L.Embedding(mods[\"month\"], mods[\"month\"], name=\"month_3d\")(month)\n",
    "    year_ = L.Embedding(mods[\"year\"], mods[\"year\"], name=\"year_3d\")(year)\n",
    "    event_ = L.Embedding(mods[\"event_name\"], mods[\"event_name\"], name=\"event_3d\")(event)\n",
    "    nday_ = L.Embedding(mods[\"nday\"], mods[\"nday\"], name=\"nday_3d\")(nday)\n",
    "    item_ = L.Embedding(mods[\"item_id\"], 10, name=\"item_3d\")(item)\n",
    "    dept_ = L.Embedding(mods[\"dept_id\"], mods[\"dept_id\"], name=\"dept_3d\")(dept)\n",
    "    cat_ = L.Embedding(mods[\"cat_id\"], mods[\"cat_id\"], name=\"cat_3d\")(cat)\n",
    "    store_ = L.Embedding(mods[\"store_id\"], mods[\"store_id\"], name=\"store_3d\")(store)\n",
    "    state_ = L.Embedding(mods[\"state_id\"], mods[\"state_id\"], name=\"state_3d\")(state)\n",
    "    \n",
    "    p = [ca_, tx_, wi_, wday_, month_, year_, event_, nday_, item_, dept_, cat_, store_, state_]\n",
    "    emb = L.Concatenate(name=\"embds\")(p)\n",
    "    context = L.Flatten(name=\"context\")(emb)\n",
    "    \n",
    "    x = L.Concatenate(name=\"x1\")([context, num])\n",
    "    x = L.Dense(500, activation=\"relu\", name=\"d1\")(x)\n",
    "    x = L.Dropout(0.3)(x)\n",
    "    x = L.Concatenate(name=\"m1\")([x, context])\n",
    "    x = L.Dense(500, activation=\"relu\", name=\"d2\")(x)\n",
    "    x = L.Dropout(0.3)(x)\n",
    "    x = L.Concatenate(name=\"m2\")([x, context])\n",
    "    x = L.Dense(500, activation=\"relu\", name=\"d3\")(x)\n",
    "    preds = L.Dense(9, activation=\"linear\", name=\"preds\")(x)\n",
    "    model = M.Model(inp, preds, name=\"M1\")\n",
    "    model.compile(loss=qloss, optimizer=\"adam\")\n",
    "    return model\n"
   ]
  },
  {
   "cell_type": "code",
   "execution_count": 33,
   "metadata": {},
   "outputs": [
    {
     "name": "stdout",
     "output_type": "stream",
     "text": [
      "Model: \"M1\"\n",
      "__________________________________________________________________________________________________\n",
      "Layer (type)                    Output Shape         Param #     Connected to                     \n",
      "==================================================================================================\n",
      "snap_CA (InputLayer)            [(None, 1)]          0                                            \n",
      "__________________________________________________________________________________________________\n",
      "snap_TX (InputLayer)            [(None, 1)]          0                                            \n",
      "__________________________________________________________________________________________________\n",
      "snap_WI (InputLayer)            [(None, 1)]          0                                            \n",
      "__________________________________________________________________________________________________\n",
      "wday (InputLayer)               [(None, 1)]          0                                            \n",
      "__________________________________________________________________________________________________\n",
      "month (InputLayer)              [(None, 1)]          0                                            \n",
      "__________________________________________________________________________________________________\n",
      "year (InputLayer)               [(None, 1)]          0                                            \n",
      "__________________________________________________________________________________________________\n",
      "event (InputLayer)              [(None, 1)]          0                                            \n",
      "__________________________________________________________________________________________________\n",
      "nday (InputLayer)               [(None, 1)]          0                                            \n",
      "__________________________________________________________________________________________________\n",
      "item (InputLayer)               [(None, 1)]          0                                            \n",
      "__________________________________________________________________________________________________\n",
      "dept (InputLayer)               [(None, 1)]          0                                            \n",
      "__________________________________________________________________________________________________\n",
      "cat (InputLayer)                [(None, 1)]          0                                            \n",
      "__________________________________________________________________________________________________\n",
      "store (InputLayer)              [(None, 1)]          0                                            \n",
      "__________________________________________________________________________________________________\n",
      "state (InputLayer)              [(None, 1)]          0                                            \n",
      "__________________________________________________________________________________________________\n",
      "ca_3d (Embedding)               (None, 1, 2)         4           snap_CA[0][0]                    \n",
      "__________________________________________________________________________________________________\n",
      "tx_3d (Embedding)               (None, 1, 2)         4           snap_TX[0][0]                    \n",
      "__________________________________________________________________________________________________\n",
      "wi_3d (Embedding)               (None, 1, 2)         4           snap_WI[0][0]                    \n",
      "__________________________________________________________________________________________________\n",
      "wday_3d (Embedding)             (None, 1, 7)         49          wday[0][0]                       \n",
      "__________________________________________________________________________________________________\n",
      "month_3d (Embedding)            (None, 1, 12)        144         month[0][0]                      \n",
      "__________________________________________________________________________________________________\n",
      "year_3d (Embedding)             (None, 1, 6)         36          year[0][0]                       \n",
      "__________________________________________________________________________________________________\n",
      "event_3d (Embedding)            (None, 1, 31)        961         event[0][0]                      \n",
      "__________________________________________________________________________________________________\n",
      "nday_3d (Embedding)             (None, 1, 31)        961         nday[0][0]                       \n",
      "__________________________________________________________________________________________________\n",
      "item_3d (Embedding)             (None, 1, 10)        30600       item[0][0]                       \n",
      "__________________________________________________________________________________________________\n",
      "dept_3d (Embedding)             (None, 1, 12)        144         dept[0][0]                       \n",
      "__________________________________________________________________________________________________\n",
      "cat_3d (Embedding)              (None, 1, 4)         16          cat[0][0]                        \n",
      "__________________________________________________________________________________________________\n",
      "store_3d (Embedding)            (None, 1, 14)        196         store[0][0]                      \n",
      "__________________________________________________________________________________________________\n",
      "state_3d (Embedding)            (None, 1, 4)         16          state[0][0]                      \n",
      "__________________________________________________________________________________________________\n",
      "embds (Concatenate)             (None, 1, 137)       0           ca_3d[0][0]                      \n",
      "                                                                 tx_3d[0][0]                      \n",
      "                                                                 wi_3d[0][0]                      \n",
      "                                                                 wday_3d[0][0]                    \n",
      "                                                                 month_3d[0][0]                   \n",
      "                                                                 year_3d[0][0]                    \n",
      "                                                                 event_3d[0][0]                   \n",
      "                                                                 nday_3d[0][0]                    \n",
      "                                                                 item_3d[0][0]                    \n",
      "                                                                 dept_3d[0][0]                    \n",
      "                                                                 cat_3d[0][0]                     \n",
      "                                                                 store_3d[0][0]                   \n",
      "                                                                 state_3d[0][0]                   \n",
      "__________________________________________________________________________________________________\n",
      "context (Flatten)               (None, 137)          0           embds[0][0]                      \n",
      "__________________________________________________________________________________________________\n",
      "num (InputLayer)                [(None, 6)]          0                                            \n",
      "__________________________________________________________________________________________________\n",
      "x1 (Concatenate)                (None, 143)          0           context[0][0]                    \n",
      "                                                                 num[0][0]                        \n",
      "__________________________________________________________________________________________________\n",
      "d1 (Dense)                      (None, 500)          72000       x1[0][0]                         \n",
      "__________________________________________________________________________________________________\n",
      "dropout (Dropout)               (None, 500)          0           d1[0][0]                         \n",
      "__________________________________________________________________________________________________\n",
      "m1 (Concatenate)                (None, 637)          0           dropout[0][0]                    \n",
      "                                                                 context[0][0]                    \n",
      "__________________________________________________________________________________________________\n",
      "d2 (Dense)                      (None, 500)          319000      m1[0][0]                         \n",
      "__________________________________________________________________________________________________\n",
      "dropout_1 (Dropout)             (None, 500)          0           d2[0][0]                         \n",
      "__________________________________________________________________________________________________\n",
      "m2 (Concatenate)                (None, 637)          0           dropout_1[0][0]                  \n",
      "                                                                 context[0][0]                    \n",
      "__________________________________________________________________________________________________\n",
      "d3 (Dense)                      (None, 500)          319000      m2[0][0]                         \n",
      "__________________________________________________________________________________________________\n",
      "preds (Dense)                   (None, 9)            4509        d3[0][0]                         \n",
      "==================================================================================================\n",
      "Total params: 747,644\n",
      "Trainable params: 747,644\n",
      "Non-trainable params: 0\n",
      "__________________________________________________________________________________________________\n",
      "None\n"
     ]
    }
   ],
   "source": [
    "net = make_model(len(FEATS))\n",
    "ckpt = ModelCheckpoint(\"w.h5\", monitor='val_loss', verbose=1, save_best_only=True,mode='min')\n",
    "reduce_lr = ReduceLROnPlateau(monitor='val_loss', factor=0.2,\n",
    "                              patience=5, min_lr=0.001)\n",
    "es = EarlyStopping(monitor='val_loss', patience=3)\n",
    "print(net.summary())"
   ]
  },
  {
   "cell_type": "code",
   "execution_count": 34,
   "metadata": {},
   "outputs": [
    {
     "name": "stdout",
     "output_type": "stream",
     "text": [
      "Train on 21654373 samples, validate on 1199520 samples\n",
      "Epoch 1/20\n",
      "21650000/21654373 [============================>.] - ETA: 0s - loss: 0.2087\n",
      "Epoch 00001: val_loss improved from inf to 0.22838, saving model to w.h5\n",
      "21654373/21654373 [==============================] - 1175s 54us/sample - loss: 0.2087 - val_loss: 0.2284\n",
      "Epoch 2/20\n",
      "21650000/21654373 [============================>.] - ETA: 0s - loss: 0.1988\n",
      "Epoch 00002: val_loss improved from 0.22838 to 0.22406, saving model to w.h5\n",
      "21654373/21654373 [==============================] - 1185s 55us/sample - loss: 0.1988 - val_loss: 0.2241\n",
      "Epoch 3/20\n",
      "21650000/21654373 [============================>.] - ETA: 0s - loss: 0.1966\n",
      "Epoch 00003: val_loss improved from 0.22406 to 0.22160, saving model to w.h5\n",
      "21654373/21654373 [==============================] - 1163s 54us/sample - loss: 0.1966 - val_loss: 0.2216\n",
      "Epoch 4/20\n",
      "21650000/21654373 [============================>.] - ETA: 0s - loss: 0.1944\n",
      "Epoch 00004: val_loss improved from 0.22160 to 0.21894, saving model to w.h5\n",
      "21654373/21654373 [==============================] - 1167s 54us/sample - loss: 0.1944 - val_loss: 0.2189\n",
      "Epoch 5/20\n",
      "21650000/21654373 [============================>.] - ETA: 0s - loss: 0.1921\n",
      "Epoch 00005: val_loss improved from 0.21894 to 0.21754, saving model to w.h5\n",
      "21654373/21654373 [==============================] - 1129s 52us/sample - loss: 0.1921 - val_loss: 0.2175\n",
      "Epoch 6/20\n",
      "21650000/21654373 [============================>.] - ETA: 0s - loss: 0.1899\n",
      "Epoch 00006: val_loss improved from 0.21754 to 0.21677, saving model to w.h5\n",
      "21654373/21654373 [==============================] - 1145s 53us/sample - loss: 0.1899 - val_loss: 0.2168\n",
      "Epoch 7/20\n",
      "21650000/21654373 [============================>.] - ETA: 0s - loss: 0.1885\n",
      "Epoch 00007: val_loss improved from 0.21677 to 0.21639, saving model to w.h5\n",
      "21654373/21654373 [==============================] - 1164s 54us/sample - loss: 0.1885 - val_loss: 0.2164\n",
      "Epoch 8/20\n",
      "21650000/21654373 [============================>.] - ETA: 0s - loss: 0.1875\n",
      "Epoch 00008: val_loss improved from 0.21639 to 0.21537, saving model to w.h5\n",
      "21654373/21654373 [==============================] - 1144s 53us/sample - loss: 0.1875 - val_loss: 0.2154\n",
      "Epoch 9/20\n",
      "21650000/21654373 [============================>.] - ETA: 0s - loss: 0.1868\n",
      "Epoch 00009: val_loss did not improve from 0.21537\n",
      "21654373/21654373 [==============================] - 1156s 53us/sample - loss: 0.1868 - val_loss: 0.2154\n",
      "Epoch 10/20\n",
      "21650000/21654373 [============================>.] - ETA: 0s - loss: 0.1862\n",
      "Epoch 00010: val_loss improved from 0.21537 to 0.21491, saving model to w.h5\n",
      "21654373/21654373 [==============================] - 1167s 54us/sample - loss: 0.1863 - val_loss: 0.2149\n",
      "Epoch 11/20\n",
      "21650000/21654373 [============================>.] - ETA: 0s - loss: 0.1858\n",
      "Epoch 00011: val_loss improved from 0.21491 to 0.21418, saving model to w.h5\n",
      "21654373/21654373 [==============================] - 1151s 53us/sample - loss: 0.1858 - val_loss: 0.2142\n",
      "Epoch 12/20\n",
      "21650000/21654373 [============================>.] - ETA: 0s - loss: 0.1855\n",
      "Epoch 00012: val_loss improved from 0.21418 to 0.21396, saving model to w.h5\n",
      "21654373/21654373 [==============================] - 1169s 54us/sample - loss: 0.1855 - val_loss: 0.2140\n",
      "Epoch 13/20\n",
      "21650000/21654373 [============================>.] - ETA: 0s - loss: 0.1852\n",
      "Epoch 00013: val_loss improved from 0.21396 to 0.21385, saving model to w.h5\n",
      "21654373/21654373 [==============================] - 1196s 55us/sample - loss: 0.1852 - val_loss: 0.2138\n",
      "Epoch 14/20\n",
      "21650000/21654373 [============================>.] - ETA: 0s - loss: 0.1849\n",
      "Epoch 00014: val_loss improved from 0.21385 to 0.21332, saving model to w.h5\n",
      "21654373/21654373 [==============================] - 1161s 54us/sample - loss: 0.1849 - val_loss: 0.2133\n",
      "Epoch 15/20\n",
      "21650000/21654373 [============================>.] - ETA: 0s - loss: 0.1846\n",
      "Epoch 00015: val_loss improved from 0.21332 to 0.21305, saving model to w.h5\n",
      "21654373/21654373 [==============================] - 1164s 54us/sample - loss: 0.1846 - val_loss: 0.2131\n",
      "Epoch 16/20\n",
      "21650000/21654373 [============================>.] - ETA: 0s - loss: 0.1844\n",
      "Epoch 00016: val_loss improved from 0.21305 to 0.21252, saving model to w.h5\n",
      "21654373/21654373 [==============================] - 1189s 55us/sample - loss: 0.1844 - val_loss: 0.2125\n",
      "Epoch 17/20\n",
      "21650000/21654373 [============================>.] - ETA: 0s - loss: 0.1842\n",
      "Epoch 00017: val_loss improved from 0.21252 to 0.21226, saving model to w.h5\n",
      "21654373/21654373 [==============================] - 1185s 55us/sample - loss: 0.1842 - val_loss: 0.2123\n",
      "Epoch 18/20\n",
      "21650000/21654373 [============================>.] - ETA: 0s - loss: 0.1840\n",
      "Epoch 00018: val_loss improved from 0.21226 to 0.21224, saving model to w.h5\n",
      "21654373/21654373 [==============================] - 1180s 55us/sample - loss: 0.1840 - val_loss: 0.2122\n",
      "Epoch 19/20\n",
      "21650000/21654373 [============================>.] - ETA: 0s - loss: 0.1838\n",
      "Epoch 00019: val_loss improved from 0.21224 to 0.21195, saving model to w.h5\n",
      "21654373/21654373 [==============================] - 1154s 53us/sample - loss: 0.1838 - val_loss: 0.2120\n",
      "Epoch 20/20\n",
      "21650000/21654373 [============================>.] - ETA: 0s - loss: 0.1836\n",
      "Epoch 00020: val_loss improved from 0.21195 to 0.21176, saving model to w.h5\n",
      "21654373/21654373 [==============================] - 1168s 54us/sample - loss: 0.1836 - val_loss: 0.2118\n"
     ]
    },
    {
     "data": {
      "text/plain": [
       "<tensorflow.python.keras.callbacks.History at 0x7f4640448190>"
      ]
     },
     "execution_count": 34,
     "metadata": {},
     "output_type": "execute_result"
    }
   ],
   "source": [
    "net.fit(xt, yt, batch_size=50_000, epochs=20, validation_data=(xv, yv), callbacks=[ckpt, reduce_lr, es])"
   ]
  },
  {
   "cell_type": "code",
   "execution_count": 35,
   "metadata": {},
   "outputs": [],
   "source": [
    "nett = make_model(len(FEATS))\n",
    "nett.load_weights(\"w.h5\")"
   ]
  },
  {
   "cell_type": "code",
   "execution_count": 36,
   "metadata": {},
   "outputs": [
    {
     "name": "stdout",
     "output_type": "stream",
     "text": [
      "1199520/1199520 [==============================] - 18s 15us/sample\n",
      "1199520/1199520 [==============================] - 34s 28us/sample\n"
     ]
    }
   ],
   "source": [
    "pv = nett.predict(xv, batch_size=50_000, verbose=1)\n",
    "pe = nett.predict(xe, batch_size=50_000, verbose=1)"
   ]
  },
  {
   "cell_type": "code",
   "execution_count": 37,
   "metadata": {},
   "outputs": [
    {
     "data": {
      "text/plain": [
       "array([[ 5.1589613,  5.4906626,  5.791505 , ...,  6.3554   ,  6.8886285,\n",
       "         7.2480855],\n",
       "       [ 4.9816675,  5.1255035,  5.2455773, ...,  5.7243586,  6.254382 ,\n",
       "         6.723924 ],\n",
       "       [ 4.495223 ,  4.656832 ,  4.840279 , ...,  5.3986616,  5.8927145,\n",
       "         6.3683457],\n",
       "       ...,\n",
       "       [ 7.270783 ,  7.8636203,  8.338037 , ...,  9.229961 ,  9.775403 ,\n",
       "        10.245756 ],\n",
       "       [ 8.52697  ,  9.259734 ,  9.928467 , ..., 11.016327 , 11.740277 ,\n",
       "        12.309168 ],\n",
       "       [ 8.274552 ,  8.982259 ,  9.724009 , ..., 10.781851 , 11.379125 ,\n",
       "        12.078576 ]], dtype=float32)"
      ]
     },
     "execution_count": 37,
     "metadata": {},
     "output_type": "execute_result"
    }
   ],
   "source": [
    "pv"
   ]
  },
  {
   "cell_type": "code",
   "execution_count": 38,
   "metadata": {},
   "outputs": [
    {
     "name": "stdout",
     "output_type": "stream",
     "text": [
      "1199520/1199520 [==============================] - 19s 16us/sample - loss: 0.2118\n"
     ]
    },
    {
     "data": {
      "text/plain": [
       "0.21175560287209977"
      ]
     },
     "execution_count": 38,
     "metadata": {},
     "output_type": "execute_result"
    }
   ],
   "source": [
    "nett.evaluate(xv, yv, batch_size=50_000)"
   ]
  },
  {
   "cell_type": "code",
   "execution_count": 39,
   "metadata": {},
   "outputs": [],
   "source": [
    "pv = pv.reshape((-1, 28, 9))\n",
    "pe = pe.reshape((-1, 28, 9))"
   ]
  },
  {
   "cell_type": "code",
   "execution_count": 40,
   "metadata": {},
   "outputs": [],
   "source": [
    "sv = sv.reshape((-1, 28))\n",
    "se = se.reshape((-1, 28))"
   ]
  },
  {
   "cell_type": "code",
   "execution_count": 41,
   "metadata": {},
   "outputs": [],
   "source": [
    "Yv = yv.reshape((-1, 28))"
   ]
  },
  {
   "cell_type": "code",
   "execution_count": 42,
   "metadata": {},
   "outputs": [
    {
     "name": "stdout",
     "output_type": "stream",
     "text": [
      "FOODS_3_598_WI_2\n"
     ]
    },
    {
     "data": {
      "image/png": "[encoded data removed]",
      "text/plain": [
       "<Figure size 432x288 with 1 Axes>"
      ]
     },
     "metadata": {
      "needs_background": "light"
     },
     "output_type": "display_data"
    }
   ],
   "source": [
    "k = np.random.randint(0, 42840)\n",
    "#k = np.random.randint(0, 200)\n",
    "print(ids[k, 0])\n",
    "plt.plot(np.arange(28, 56), Yv[k], label=\"true\")\n",
    "plt.plot(np.arange(28, 56), pv[k ,:, 3], label=\"q25\")\n",
    "plt.plot(np.arange(28, 56), pv[k ,:, 4], label=\"q50\")\n",
    "plt.plot(np.arange(28, 56), pv[k, :, 5], label=\"q75\")\n",
    "plt.legend(loc=\"best\")\n",
    "plt.show()"
   ]
  },
  {
   "cell_type": "code",
   "execution_count": 43,
   "metadata": {},
   "outputs": [],
   "source": [
    "#Prediction"
   ]
  },
  {
   "cell_type": "code",
   "execution_count": 44,
   "metadata": {},
   "outputs": [],
   "source": [
    "names = [f\"F{i+1}\" for i in range(28)]"
   ]
  },
  {
   "cell_type": "code",
   "execution_count": 45,
   "metadata": {},
   "outputs": [
    {
     "data": {
      "text/plain": [
       "['F1',\n",
       " 'F2',\n",
       " 'F3',\n",
       " 'F4',\n",
       " 'F5',\n",
       " 'F6',\n",
       " 'F7',\n",
       " 'F8',\n",
       " 'F9',\n",
       " 'F10',\n",
       " 'F11',\n",
       " 'F12',\n",
       " 'F13',\n",
       " 'F14',\n",
       " 'F15',\n",
       " 'F16',\n",
       " 'F17',\n",
       " 'F18',\n",
       " 'F19',\n",
       " 'F20',\n",
       " 'F21',\n",
       " 'F22',\n",
       " 'F23',\n",
       " 'F24',\n",
       " 'F25',\n",
       " 'F26',\n",
       " 'F27',\n",
       " 'F28']"
      ]
     },
     "execution_count": 45,
     "metadata": {},
     "output_type": "execute_result"
    }
   ],
   "source": [
    "names"
   ]
  },
  {
   "cell_type": "code",
   "execution_count": 46,
   "metadata": {},
   "outputs": [],
   "source": [
    "piv = pd.DataFrame(ids[:, 0], columns=[\"id\"])"
   ]
  },
  {
   "cell_type": "code",
   "execution_count": 47,
   "metadata": {},
   "outputs": [
    {
     "data": {
      "text/html": [
       "<div>\n",
       "<style scoped>\n",
       "    .dataframe tbody tr th:only-of-type {\n",
       "        vertical-align: middle;\n",
       "    }\n",
       "\n",
       "    .dataframe tbody tr th {\n",
       "        vertical-align: top;\n",
       "    }\n",
       "\n",
       "    .dataframe thead th {\n",
       "        text-align: right;\n",
       "    }\n",
       "</style>\n",
       "<table border=\"1\" class=\"dataframe\">\n",
       "  <thead>\n",
       "    <tr style=\"text-align: right;\">\n",
       "      <th></th>\n",
       "      <th>id</th>\n",
       "    </tr>\n",
       "  </thead>\n",
       "  <tbody>\n",
       "    <tr>\n",
       "      <th>0</th>\n",
       "      <td>CA_1_FOODS</td>\n",
       "    </tr>\n",
       "    <tr>\n",
       "      <th>1</th>\n",
       "      <td>CA_1_FOODS_1</td>\n",
       "    </tr>\n",
       "    <tr>\n",
       "      <th>2</th>\n",
       "      <td>CA_1_FOODS_2</td>\n",
       "    </tr>\n",
       "    <tr>\n",
       "      <th>3</th>\n",
       "      <td>CA_1_FOODS_3</td>\n",
       "    </tr>\n",
       "    <tr>\n",
       "      <th>4</th>\n",
       "      <td>CA_1_HOBBIES</td>\n",
       "    </tr>\n",
       "    <tr>\n",
       "      <th>5</th>\n",
       "      <td>CA_1_HOBBIES_1</td>\n",
       "    </tr>\n",
       "    <tr>\n",
       "      <th>6</th>\n",
       "      <td>CA_1_HOBBIES_2</td>\n",
       "    </tr>\n",
       "    <tr>\n",
       "      <th>7</th>\n",
       "      <td>CA_1_HOUSEHOLD</td>\n",
       "    </tr>\n",
       "    <tr>\n",
       "      <th>8</th>\n",
       "      <td>CA_1_HOUSEHOLD_1</td>\n",
       "    </tr>\n",
       "    <tr>\n",
       "      <th>9</th>\n",
       "      <td>CA_1_HOUSEHOLD_2</td>\n",
       "    </tr>\n",
       "    <tr>\n",
       "      <th>10</th>\n",
       "      <td>CA_1_X</td>\n",
       "    </tr>\n",
       "    <tr>\n",
       "      <th>11</th>\n",
       "      <td>CA_2_FOODS</td>\n",
       "    </tr>\n",
       "    <tr>\n",
       "      <th>12</th>\n",
       "      <td>CA_2_FOODS_1</td>\n",
       "    </tr>\n",
       "    <tr>\n",
       "      <th>13</th>\n",
       "      <td>CA_2_FOODS_2</td>\n",
       "    </tr>\n",
       "    <tr>\n",
       "      <th>14</th>\n",
       "      <td>CA_2_FOODS_3</td>\n",
       "    </tr>\n",
       "    <tr>\n",
       "      <th>15</th>\n",
       "      <td>CA_2_HOBBIES</td>\n",
       "    </tr>\n",
       "    <tr>\n",
       "      <th>16</th>\n",
       "      <td>CA_2_HOBBIES_1</td>\n",
       "    </tr>\n",
       "    <tr>\n",
       "      <th>17</th>\n",
       "      <td>CA_2_HOBBIES_2</td>\n",
       "    </tr>\n",
       "    <tr>\n",
       "      <th>18</th>\n",
       "      <td>CA_2_HOUSEHOLD</td>\n",
       "    </tr>\n",
       "    <tr>\n",
       "      <th>19</th>\n",
       "      <td>CA_2_HOUSEHOLD_1</td>\n",
       "    </tr>\n",
       "    <tr>\n",
       "      <th>20</th>\n",
       "      <td>CA_2_HOUSEHOLD_2</td>\n",
       "    </tr>\n",
       "    <tr>\n",
       "      <th>21</th>\n",
       "      <td>CA_2_X</td>\n",
       "    </tr>\n",
       "    <tr>\n",
       "      <th>22</th>\n",
       "      <td>CA_3_FOODS</td>\n",
       "    </tr>\n",
       "    <tr>\n",
       "      <th>23</th>\n",
       "      <td>CA_3_FOODS_1</td>\n",
       "    </tr>\n",
       "    <tr>\n",
       "      <th>24</th>\n",
       "      <td>CA_3_FOODS_2</td>\n",
       "    </tr>\n",
       "    <tr>\n",
       "      <th>25</th>\n",
       "      <td>CA_3_FOODS_3</td>\n",
       "    </tr>\n",
       "    <tr>\n",
       "      <th>26</th>\n",
       "      <td>CA_3_HOBBIES</td>\n",
       "    </tr>\n",
       "    <tr>\n",
       "      <th>27</th>\n",
       "      <td>CA_3_HOBBIES_1</td>\n",
       "    </tr>\n",
       "    <tr>\n",
       "      <th>28</th>\n",
       "      <td>CA_3_HOBBIES_2</td>\n",
       "    </tr>\n",
       "    <tr>\n",
       "      <th>29</th>\n",
       "      <td>CA_3_HOUSEHOLD</td>\n",
       "    </tr>\n",
       "    <tr>\n",
       "      <th>30</th>\n",
       "      <td>CA_3_HOUSEHOLD_1</td>\n",
       "    </tr>\n",
       "    <tr>\n",
       "      <th>31</th>\n",
       "      <td>CA_3_HOUSEHOLD_2</td>\n",
       "    </tr>\n",
       "    <tr>\n",
       "      <th>32</th>\n",
       "      <td>CA_3_X</td>\n",
       "    </tr>\n",
       "    <tr>\n",
       "      <th>33</th>\n",
       "      <td>CA_4_FOODS</td>\n",
       "    </tr>\n",
       "    <tr>\n",
       "      <th>34</th>\n",
       "      <td>CA_4_FOODS_1</td>\n",
       "    </tr>\n",
       "    <tr>\n",
       "      <th>35</th>\n",
       "      <td>CA_4_FOODS_2</td>\n",
       "    </tr>\n",
       "    <tr>\n",
       "      <th>36</th>\n",
       "      <td>CA_4_FOODS_3</td>\n",
       "    </tr>\n",
       "    <tr>\n",
       "      <th>37</th>\n",
       "      <td>CA_4_HOBBIES</td>\n",
       "    </tr>\n",
       "    <tr>\n",
       "      <th>38</th>\n",
       "      <td>CA_4_HOBBIES_1</td>\n",
       "    </tr>\n",
       "    <tr>\n",
       "      <th>39</th>\n",
       "      <td>CA_4_HOBBIES_2</td>\n",
       "    </tr>\n",
       "    <tr>\n",
       "      <th>40</th>\n",
       "      <td>CA_4_HOUSEHOLD</td>\n",
       "    </tr>\n",
       "    <tr>\n",
       "      <th>41</th>\n",
       "      <td>CA_4_HOUSEHOLD_1</td>\n",
       "    </tr>\n",
       "    <tr>\n",
       "      <th>42</th>\n",
       "      <td>CA_4_HOUSEHOLD_2</td>\n",
       "    </tr>\n",
       "    <tr>\n",
       "      <th>43</th>\n",
       "      <td>CA_4_X</td>\n",
       "    </tr>\n",
       "    <tr>\n",
       "      <th>44</th>\n",
       "      <td>CA_FOODS</td>\n",
       "    </tr>\n",
       "    <tr>\n",
       "      <th>45</th>\n",
       "      <td>CA_FOODS_1</td>\n",
       "    </tr>\n",
       "    <tr>\n",
       "      <th>46</th>\n",
       "      <td>CA_FOODS_1_001</td>\n",
       "    </tr>\n",
       "    <tr>\n",
       "      <th>47</th>\n",
       "      <td>CA_FOODS_1_002</td>\n",
       "    </tr>\n",
       "    <tr>\n",
       "      <th>48</th>\n",
       "      <td>CA_FOODS_1_003</td>\n",
       "    </tr>\n",
       "    <tr>\n",
       "      <th>49</th>\n",
       "      <td>CA_FOODS_1_004</td>\n",
       "    </tr>\n",
       "  </tbody>\n",
       "</table>\n",
       "</div>"
      ],
      "text/plain": [
       "                  id\n",
       "0         CA_1_FOODS\n",
       "1       CA_1_FOODS_1\n",
       "2       CA_1_FOODS_2\n",
       "3       CA_1_FOODS_3\n",
       "4       CA_1_HOBBIES\n",
       "5     CA_1_HOBBIES_1\n",
       "6     CA_1_HOBBIES_2\n",
       "7     CA_1_HOUSEHOLD\n",
       "8   CA_1_HOUSEHOLD_1\n",
       "9   CA_1_HOUSEHOLD_2\n",
       "10            CA_1_X\n",
       "11        CA_2_FOODS\n",
       "12      CA_2_FOODS_1\n",
       "13      CA_2_FOODS_2\n",
       "14      CA_2_FOODS_3\n",
       "15      CA_2_HOBBIES\n",
       "16    CA_2_HOBBIES_1\n",
       "17    CA_2_HOBBIES_2\n",
       "18    CA_2_HOUSEHOLD\n",
       "19  CA_2_HOUSEHOLD_1\n",
       "20  CA_2_HOUSEHOLD_2\n",
       "21            CA_2_X\n",
       "22        CA_3_FOODS\n",
       "23      CA_3_FOODS_1\n",
       "24      CA_3_FOODS_2\n",
       "25      CA_3_FOODS_3\n",
       "26      CA_3_HOBBIES\n",
       "27    CA_3_HOBBIES_1\n",
       "28    CA_3_HOBBIES_2\n",
       "29    CA_3_HOUSEHOLD\n",
       "30  CA_3_HOUSEHOLD_1\n",
       "31  CA_3_HOUSEHOLD_2\n",
       "32            CA_3_X\n",
       "33        CA_4_FOODS\n",
       "34      CA_4_FOODS_1\n",
       "35      CA_4_FOODS_2\n",
       "36      CA_4_FOODS_3\n",
       "37      CA_4_HOBBIES\n",
       "38    CA_4_HOBBIES_1\n",
       "39    CA_4_HOBBIES_2\n",
       "40    CA_4_HOUSEHOLD\n",
       "41  CA_4_HOUSEHOLD_1\n",
       "42  CA_4_HOUSEHOLD_2\n",
       "43            CA_4_X\n",
       "44          CA_FOODS\n",
       "45        CA_FOODS_1\n",
       "46    CA_FOODS_1_001\n",
       "47    CA_FOODS_1_002\n",
       "48    CA_FOODS_1_003\n",
       "49    CA_FOODS_1_004"
      ]
     },
     "execution_count": 47,
     "metadata": {},
     "output_type": "execute_result"
    }
   ],
   "source": [
    "piv.head(50)"
   ]
  },
  {
   "cell_type": "code",
   "execution_count": 48,
   "metadata": {},
   "outputs": [
    {
     "data": {
      "text/plain": [
       "array([[4.658e+02, 4.658e+02, 4.658e+02, ..., 4.658e+02, 4.658e+02,\n",
       "        4.658e+02],\n",
       "       [5.641e+01, 5.641e+01, 5.641e+01, ..., 5.641e+01, 5.641e+01,\n",
       "        5.641e+01],\n",
       "       [8.494e+01, 8.494e+01, 8.494e+01, ..., 8.494e+01, 8.494e+01,\n",
       "        8.494e+01],\n",
       "       ...,\n",
       "       [5.010e-01, 5.010e-01, 5.010e-01, ..., 5.010e-01, 5.010e-01,\n",
       "        5.010e-01],\n",
       "       [3.921e-01, 3.921e-01, 3.921e-01, ..., 3.921e-01, 3.921e-01,\n",
       "        3.921e-01],\n",
       "       [1.440e+03, 1.440e+03, 1.440e+03, ..., 1.440e+03, 1.440e+03,\n",
       "        1.440e+03]], dtype=float16)"
      ]
     },
     "execution_count": 48,
     "metadata": {},
     "output_type": "execute_result"
    }
   ],
   "source": [
    "sv"
   ]
  },
  {
   "cell_type": "code",
   "execution_count": 49,
   "metadata": {},
   "outputs": [
    {
     "name": "stderr",
     "output_type": "stream",
     "text": [
      "9it [00:00, 17.27it/s]\n"
     ]
    }
   ],
   "source": [
    "QUANTILES = [\"0.005\", \"0.025\", \"0.165\", \"0.250\", \"0.500\", \"0.750\", \"0.835\", \"0.975\", \"0.995\"]\n",
    "VALID = []\n",
    "EVAL = []\n",
    "\n",
    "for i, quantile in tqdm(enumerate(QUANTILES)):\n",
    "    t1 = pd.DataFrame(pv[:,:, i]*sv, columns=names)\n",
    "    t1 = piv.join(t1)\n",
    "    t1[\"id\"] = t1[\"id\"] + f\"_{quantile}_validation\"\n",
    "    t2 = pd.DataFrame(pe[:,:, i]*se, columns=names)\n",
    "    t2 = piv.join(t2)\n",
    "    t2[\"id\"] = t2[\"id\"] + f\"_{quantile}_evaluation\"\n",
    "    VALID.append(t1)\n",
    "    EVAL.append(t2)\n",
    "#============#"
   ]
  },
  {
   "cell_type": "code",
   "execution_count": 50,
   "metadata": {},
   "outputs": [
    {
     "data": {
      "text/plain": [
       "array([[4.658e+02, 4.658e+02, 4.658e+02, ..., 4.658e+02, 4.658e+02,\n",
       "        4.658e+02],\n",
       "       [5.641e+01, 5.641e+01, 5.641e+01, ..., 5.641e+01, 5.641e+01,\n",
       "        5.641e+01],\n",
       "       [8.494e+01, 8.494e+01, 8.494e+01, ..., 8.494e+01, 8.494e+01,\n",
       "        8.494e+01],\n",
       "       ...,\n",
       "       [5.010e-01, 5.010e-01, 5.010e-01, ..., 5.010e-01, 5.010e-01,\n",
       "        5.010e-01],\n",
       "       [3.921e-01, 3.921e-01, 3.921e-01, ..., 3.921e-01, 3.921e-01,\n",
       "        3.921e-01],\n",
       "       [1.440e+03, 1.440e+03, 1.440e+03, ..., 1.440e+03, 1.440e+03,\n",
       "        1.440e+03]], dtype=float16)"
      ]
     },
     "execution_count": 50,
     "metadata": {},
     "output_type": "execute_result"
    }
   ],
   "source": [
    "sv"
   ]
  },
  {
   "cell_type": "code",
   "execution_count": 51,
   "metadata": {},
   "outputs": [],
   "source": [
    "sub = pd.DataFrame()\n",
    "sub = sub.append(VALID + EVAL)\n",
    "del VALID, EVAL, t1, t2"
   ]
  },
  {
   "cell_type": "code",
   "execution_count": 52,
   "metadata": {},
   "outputs": [],
   "source": [
    "sub_round = sub.round()"
   ]
  },
  {
   "cell_type": "code",
   "execution_count": 53,
   "metadata": {},
   "outputs": [
    {
     "data": {
      "text/html": [
       "<div>\n",
       "<style scoped>\n",
       "    .dataframe tbody tr th:only-of-type {\n",
       "        vertical-align: middle;\n",
       "    }\n",
       "\n",
       "    .dataframe tbody tr th {\n",
       "        vertical-align: top;\n",
       "    }\n",
       "\n",
       "    .dataframe thead th {\n",
       "        text-align: right;\n",
       "    }\n",
       "</style>\n",
       "<table border=\"1\" class=\"dataframe\">\n",
       "  <thead>\n",
       "    <tr style=\"text-align: right;\">\n",
       "      <th></th>\n",
       "      <th>id</th>\n",
       "      <th>F1</th>\n",
       "      <th>F2</th>\n",
       "      <th>F3</th>\n",
       "      <th>F4</th>\n",
       "      <th>F5</th>\n",
       "      <th>F6</th>\n",
       "      <th>F7</th>\n",
       "      <th>F8</th>\n",
       "      <th>F9</th>\n",
       "      <th>...</th>\n",
       "      <th>F19</th>\n",
       "      <th>F20</th>\n",
       "      <th>F21</th>\n",
       "      <th>F22</th>\n",
       "      <th>F23</th>\n",
       "      <th>F24</th>\n",
       "      <th>F25</th>\n",
       "      <th>F26</th>\n",
       "      <th>F27</th>\n",
       "      <th>F28</th>\n",
       "    </tr>\n",
       "  </thead>\n",
       "  <tbody>\n",
       "    <tr>\n",
       "      <th>0</th>\n",
       "      <td>CA_1_FOODS_0.005_validation</td>\n",
       "      <td>2403.0</td>\n",
       "      <td>2320.0</td>\n",
       "      <td>2094.0</td>\n",
       "      <td>2121.0</td>\n",
       "      <td>2413.0</td>\n",
       "      <td>3084.0</td>\n",
       "      <td>3137.0</td>\n",
       "      <td>2518.0</td>\n",
       "      <td>2417.0</td>\n",
       "      <td>...</td>\n",
       "      <td>2455.0</td>\n",
       "      <td>3143.0</td>\n",
       "      <td>3440.0</td>\n",
       "      <td>2462.0</td>\n",
       "      <td>2286.0</td>\n",
       "      <td>2331.0</td>\n",
       "      <td>2308.0</td>\n",
       "      <td>2531.0</td>\n",
       "      <td>3195.0</td>\n",
       "      <td>3428.0</td>\n",
       "    </tr>\n",
       "    <tr>\n",
       "      <th>1</th>\n",
       "      <td>CA_1_FOODS_1_0.005_validation</td>\n",
       "      <td>194.0</td>\n",
       "      <td>179.0</td>\n",
       "      <td>170.0</td>\n",
       "      <td>185.0</td>\n",
       "      <td>202.0</td>\n",
       "      <td>237.0</td>\n",
       "      <td>235.0</td>\n",
       "      <td>188.0</td>\n",
       "      <td>200.0</td>\n",
       "      <td>...</td>\n",
       "      <td>233.0</td>\n",
       "      <td>263.0</td>\n",
       "      <td>232.0</td>\n",
       "      <td>202.0</td>\n",
       "      <td>206.0</td>\n",
       "      <td>204.0</td>\n",
       "      <td>215.0</td>\n",
       "      <td>250.0</td>\n",
       "      <td>298.0</td>\n",
       "      <td>275.0</td>\n",
       "    </tr>\n",
       "    <tr>\n",
       "      <th>2</th>\n",
       "      <td>CA_1_FOODS_2_0.005_validation</td>\n",
       "      <td>326.0</td>\n",
       "      <td>309.0</td>\n",
       "      <td>272.0</td>\n",
       "      <td>267.0</td>\n",
       "      <td>315.0</td>\n",
       "      <td>442.0</td>\n",
       "      <td>470.0</td>\n",
       "      <td>408.0</td>\n",
       "      <td>396.0</td>\n",
       "      <td>...</td>\n",
       "      <td>318.0</td>\n",
       "      <td>432.0</td>\n",
       "      <td>510.0</td>\n",
       "      <td>371.0</td>\n",
       "      <td>328.0</td>\n",
       "      <td>314.0</td>\n",
       "      <td>287.0</td>\n",
       "      <td>317.0</td>\n",
       "      <td>417.0</td>\n",
       "      <td>496.0</td>\n",
       "    </tr>\n",
       "    <tr>\n",
       "      <th>3</th>\n",
       "      <td>CA_1_FOODS_3_0.005_validation</td>\n",
       "      <td>1532.0</td>\n",
       "      <td>1456.0</td>\n",
       "      <td>1305.0</td>\n",
       "      <td>1300.0</td>\n",
       "      <td>1488.0</td>\n",
       "      <td>2030.0</td>\n",
       "      <td>2089.0</td>\n",
       "      <td>1596.0</td>\n",
       "      <td>1514.0</td>\n",
       "      <td>...</td>\n",
       "      <td>1580.0</td>\n",
       "      <td>2086.0</td>\n",
       "      <td>2321.0</td>\n",
       "      <td>1611.0</td>\n",
       "      <td>1537.0</td>\n",
       "      <td>1519.0</td>\n",
       "      <td>1443.0</td>\n",
       "      <td>1630.0</td>\n",
       "      <td>2135.0</td>\n",
       "      <td>2381.0</td>\n",
       "    </tr>\n",
       "    <tr>\n",
       "      <th>4</th>\n",
       "      <td>CA_1_HOBBIES_0.005_validation</td>\n",
       "      <td>341.0</td>\n",
       "      <td>330.0</td>\n",
       "      <td>313.0</td>\n",
       "      <td>311.0</td>\n",
       "      <td>344.0</td>\n",
       "      <td>440.0</td>\n",
       "      <td>429.0</td>\n",
       "      <td>336.0</td>\n",
       "      <td>347.0</td>\n",
       "      <td>...</td>\n",
       "      <td>338.0</td>\n",
       "      <td>449.0</td>\n",
       "      <td>447.0</td>\n",
       "      <td>333.0</td>\n",
       "      <td>332.0</td>\n",
       "      <td>326.0</td>\n",
       "      <td>322.0</td>\n",
       "      <td>365.0</td>\n",
       "      <td>445.0</td>\n",
       "      <td>447.0</td>\n",
       "    </tr>\n",
       "  </tbody>\n",
       "</table>\n",
       "<p>5 rows × 29 columns</p>\n",
       "</div>"
      ],
      "text/plain": [
       "                              id      F1      F2      F3      F4      F5  \\\n",
       "0    CA_1_FOODS_0.005_validation  2403.0  2320.0  2094.0  2121.0  2413.0   \n",
       "1  CA_1_FOODS_1_0.005_validation   194.0   179.0   170.0   185.0   202.0   \n",
       "2  CA_1_FOODS_2_0.005_validation   326.0   309.0   272.0   267.0   315.0   \n",
       "3  CA_1_FOODS_3_0.005_validation  1532.0  1456.0  1305.0  1300.0  1488.0   \n",
       "4  CA_1_HOBBIES_0.005_validation   341.0   330.0   313.0   311.0   344.0   \n",
       "\n",
       "       F6      F7      F8      F9  ...     F19     F20     F21     F22  \\\n",
       "0  3084.0  3137.0  2518.0  2417.0  ...  2455.0  3143.0  3440.0  2462.0   \n",
       "1   237.0   235.0   188.0   200.0  ...   233.0   263.0   232.0   202.0   \n",
       "2   442.0   470.0   408.0   396.0  ...   318.0   432.0   510.0   371.0   \n",
       "3  2030.0  2089.0  1596.0  1514.0  ...  1580.0  2086.0  2321.0  1611.0   \n",
       "4   440.0   429.0   336.0   347.0  ...   338.0   449.0   447.0   333.0   \n",
       "\n",
       "      F23     F24     F25     F26     F27     F28  \n",
       "0  2286.0  2331.0  2308.0  2531.0  3195.0  3428.0  \n",
       "1   206.0   204.0   215.0   250.0   298.0   275.0  \n",
       "2   328.0   314.0   287.0   317.0   417.0   496.0  \n",
       "3  1537.0  1519.0  1443.0  1630.0  2135.0  2381.0  \n",
       "4   332.0   326.0   322.0   365.0   445.0   447.0  \n",
       "\n",
       "[5 rows x 29 columns]"
      ]
     },
     "execution_count": 53,
     "metadata": {},
     "output_type": "execute_result"
    }
   ],
   "source": [
    "sub_round.head()"
   ]
  },
  {
   "cell_type": "code",
   "execution_count": 54,
   "metadata": {},
   "outputs": [],
   "source": [
    "sub_round.to_csv(\"submission.csv\", index=False)"
   ]
  },
  {
   "cell_type": "code",
   "execution_count": null,
   "metadata": {},
   "outputs": [],
   "source": []
  }
 ],
 "metadata": {
  "kernelspec": {
   "display_name": "Python 3",
   "language": "python",
   "name": "python3"
  },
  "language_info": {
   "codemirror_mode": {
    "name": "ipython",
    "version": 3
   },
   "file_extension": ".py",
   "mimetype": "text/x-python",
   "name": "python",
   "nbconvert_exporter": "python",
   "pygments_lexer": "ipython3",
   "version": "3.7.6"
  }
 },
 "nbformat": 4,
 "nbformat_minor": 4
}
